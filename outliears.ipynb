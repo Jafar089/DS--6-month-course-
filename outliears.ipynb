{
 "cells": [
  {
   "cell_type": "markdown",
   "metadata": {},
   "source": [
    "Outliear wo data points hoty hain jo actual data se buhat door hoty hian\n",
    "\n",
    "\n",
    "A-> Global outlier\n",
    "B-> Contextual outlier\n",
    "C-> Collective outlier\n",
    "\n",
    "\n",
    "Box plot -----> Q1  Q2   Q3   Q4\n",
    "\n",
    "IQR = Q3-Q1\n",
    "\n",
    "\n",
    "Findind outlier from the data\n",
    "\n",
    "Q3+IQR*1.5\n",
    "\n",
    "Q1-IQR*1.5\n",
    "\n",
    "Also find outlier by z-score\n",
    "\n",
    "In this define lower and upper bound and which data is not in that range they are simply outliers\n",
    "\n",
    "How to deal with outliers???\n",
    "\n",
    "1--> tranform with log\n",
    "\n",
    "2--> Impute -> missing values ko mean and medium se change kr dein\n",
    "\n",
    "3--> Robust Model\n",
    "\n",
    "4--> Remove them\n",
    "\n",
    "\n",
    "\n"
   ]
  },
  {
   "cell_type": "markdown",
   "metadata": {},
   "source": []
  },
  {
   "cell_type": "code",
   "execution_count": null,
   "metadata": {},
   "outputs": [],
   "source": []
  },
  {
   "cell_type": "code",
   "execution_count": null,
   "metadata": {},
   "outputs": [],
   "source": []
  },
  {
   "cell_type": "code",
   "execution_count": null,
   "metadata": {},
   "outputs": [],
   "source": []
  }
 ],
 "metadata": {
  "language_info": {
   "name": "python"
  }
 },
 "nbformat": 4,
 "nbformat_minor": 2
}
